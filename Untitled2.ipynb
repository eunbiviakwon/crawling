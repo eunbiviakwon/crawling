{
 "cells": [
  {
   "cell_type": "code",
   "execution_count": null,
   "metadata": {},
   "outputs": [],
   "source": [
    "import requests\n",
    "from bs4 import BeautifulSoup\n",
    "from selenium import webdriver\n",
    "import urllib.request\n",
    "from urllib.parse import urlparse\n",
    "\n",
    "driver = webdriver.Chrome('/home/eunbi/Desktop/Study/크롤링/chromedriver')\n",
    "\n",
    "# 신상품 페이지 상품 사진 이미지 링크\n",
    "driver.get('https://www.kurly.com/shop/goods/goods_list.php?category=038')\n",
    "html = driver.page_source\n",
    "soup = BeautifulSoup(html, 'html.parser')\n",
    "my_photos = soup.select(\n",
    "    '#goodsList > div.list_goods > div > ul > li > div > div > a > img '\n",
    "    )\n",
    "print(my_photos)\n",
    "\n",
    "for photos in my_photos:\n",
    "    photo = photos['src']\n",
    "    print(photo)"
   ]
  },
  {
   "cell_type": "code",
   "execution_count": null,
   "metadata": {},
   "outputs": [],
   "source": []
  }
 ],
 "metadata": {
  "kernelspec": {
   "display_name": "Python 3",
   "language": "python",
   "name": "python3"
  },
  "language_info": {
   "codemirror_mode": {
    "name": "ipython",
    "version": 3
   },
   "file_extension": ".py",
   "mimetype": "text/x-python",
   "name": "python",
   "nbconvert_exporter": "python",
   "pygments_lexer": "ipython3",
   "version": "3.6.9"
  }
 },
 "nbformat": 4,
 "nbformat_minor": 2
}
