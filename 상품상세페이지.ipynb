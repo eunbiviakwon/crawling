{
 "cells": [
  {
   "cell_type": "code",
   "execution_count": 120,
   "metadata": {},
   "outputs": [],
   "source": [
    "import requests\n",
    "from bs4 import BeautifulSoup\n",
    "from selenium import webdriver\n",
    "import urllib.request\n",
    "from urllib.parse import urlparse\n",
    "import re\n",
    "driver = webdriver.Chrome('/home/eunbi/Desktop/Study/크롤링/chromedriver')\n",
    "\n",
    "# 신상품 페이지 상품 사진 이미지 링크\n",
    "driver.get('https://www.kurly.com/shop/goods/goods_view.php?&goodsno=43407')\n",
    "html = driver.page_source\n",
    "soup = BeautifulSoup(html, 'html.parser')"
   ]
  },
  {
   "cell_type": "code",
   "execution_count": 121,
   "metadata": {},
   "outputs": [
    {
     "name": "stdout",
     "output_type": "stream",
     "text": [
      "https://res.kurly.com/mobile/service/goodsview/1910/bg_375x482.png\n",
      "[그라나롤로] 치즈 크럼블 3종\n",
      "과일을 더한 이색 치즈 토핑\n",
      "920원\n",
      "60%\n"
     ]
    }
   ],
   "source": [
    "# 썸네일\n",
    "img1 = soup.select_one('#sectionView > div > div.thumb > img')\n",
    "print(img1['src'])\n",
    "\n",
    "# 상품명\n",
    "name = soup.select_one('#sectionView > div > p.goods_name > strong').string\n",
    "print(name)\n",
    "\n",
    "# 짧은설명\n",
    "summary = soup.select_one('#sectionView > div > p.goods_name > span.short_desc').string\n",
    "print(summary)\n",
    "\n",
    "# 가격\n",
    "price = soup.select_one(\n",
    "    '#sectionView > div > p.goods_price > span.position > span.dc > span.dc_price').get_text()\n",
    "print(price)\n",
    "\n",
    "## 할인\n",
    "discount_rate = soup.select_one(\n",
    "    '#sectionView > div > p.goods_price > span.position > span.dc > span.dc_percent').string\n",
    "print(discount_rate)"
   ]
  },
  {
   "cell_type": "code",
   "execution_count": 155,
   "metadata": {},
   "outputs": [
    {
     "name": "stdout",
     "output_type": "stream",
     "text": [
      "1봉\n",
      "20g\n",
      "상온/종이포장\n",
      "[그라나롤로] 고지베리 & 씨드\n",
      "2,300원\n",
      "[그라나롤로] 블루베리 & 씨드\n",
      "2,300원\n",
      "[그라나롤로] 토마토 & 씨드\n",
      "2,300원\n"
     ]
    }
   ],
   "source": [
    "# 판매단위\n",
    "unit = soup.select_one(\n",
    "    '#sectionView > div > div.goods_info > dl.list.fst > dd').string\n",
    "print(unit)\n",
    "\n",
    "# 중량/용량\n",
    "amount = soup.select_one(\n",
    "    '#sectionView > div > div.goods_info > dl:nth-child(2) > dd').string\n",
    "print(amount)\n",
    "\n",
    "# 배송구분\n",
    "# delivery = soup.select_one(\n",
    "# '#sectionView > div > div.goods_info > dl:nth-child(3) > dd'\n",
    "# ).string\n",
    "# print(delivery)\n",
    "\n",
    "#포장타입\n",
    "package2 = soup.select_one('#sectionView > div > div.goods_info > dl:nth-child(4) > dd.desc').string.strip()\n",
    "print(package2)\n",
    "\n",
    "# package = driver.find_element_by_css_selector('#sectionView > div > div.goods_info > dl:nth-child(4) > dd')\n",
    "# print(package.text.strip('\\n'))\n",
    "# options\n",
    "option_select = driver.find_element_by_class_name(\"txt_select\").click()\n",
    "options = soup.select()\n",
    "# options = driver.find_element_by_class_name(\"select_item\")\n",
    "option = re.sub('[(품절)]', '', options.text).strip()\n",
    "print(option)"
   ]
  },
  {
   "cell_type": "code",
   "execution_count": 141,
   "metadata": {},
   "outputs": [
    {
     "name": "stdout",
     "output_type": "stream",
     "text": [
      "//img-cf.kurly.com/shop/data/goodsview/20191112/gv00000067765_1.jpg\n",
      "진한 치즈의 풍미를 간편하고 색다르게 즐기고 싶은 분들이라면 그라나놀로의 제품을 만나보세요. 5개월간 숙성한 치즈를 잘게 부순 뒤 건조된 씨앗, 과일과 함께 담아낸 치즈 크럼블 3종입니다. 엄선한 하드 치즈에 베리와 토마토, 올리브 등 몸에 이로운 재료를 쏙쏙 더해 완성했는데요. 부슬부슬한 식감의 크럼블과 오도독 씹히는 각종 씨앗이 입 안에서 달콤 짭쪼름한 조화를 이룬답니다. 한 번에 즐기기 좋은 용량만큼 알맞게 포장했기에 어디든 가지고 다니기에 편리하고요. 그대로 드셔도 좋지만 샐러드나 수프, 혹은 각종 요리에 뿌려드셔 보세요. 늘 같던 접시에 근사한 이탈리아의 풍미를 더할 수 있을 거예요. \n"
     ]
    }
   ],
   "source": [
    "# 큰 이미지\n",
    "\n",
    "img2 = soup.select_one(\n",
    "    '#goods-description > div > div.goods_intro > div.pic > img')\n",
    "print(img2['src'])\n",
    "\n",
    "# 상품설명\n",
    "description = soup.select_one(\n",
    "    '#goods-description > div > div.goods_intro > div.context.last > p').string\n",
    "print(description)"
   ]
  },
  {
   "cell_type": "code",
   "execution_count": 137,
   "metadata": {},
   "outputs": [
    {
     "name": "stdout",
     "output_type": "stream",
     "text": [
      "//img-cf.kurly.com/shop/data/goodsview/20191112/gv30000067772_1.jpg\n"
     ]
    }
   ],
   "source": [
    "# 상품이미지\n",
    "img3 = soup.select_one(\n",
    "    '#goods_pi > p > img')\n",
    "print(img3['src'])"
   ]
  },
  {
   "cell_type": "code",
   "execution_count": null,
   "metadata": {},
   "outputs": [],
   "source": []
  }
 ],
 "metadata": {
  "kernelspec": {
   "display_name": "Python 3",
   "language": "python",
   "name": "python3"
  },
  "language_info": {
   "codemirror_mode": {
    "name": "ipython",
    "version": 3
   },
   "file_extension": ".py",
   "mimetype": "text/x-python",
   "name": "python",
   "nbconvert_exporter": "python",
   "pygments_lexer": "ipython3",
   "version": "3.6.9"
  }
 },
 "nbformat": 4,
 "nbformat_minor": 2
}
