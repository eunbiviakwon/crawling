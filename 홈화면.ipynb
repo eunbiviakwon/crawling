{
 "cells": [
  {
   "cell_type": "code",
   "execution_count": 1,
   "metadata": {},
   "outputs": [],
   "source": [
    "import requests\n",
    "from bs4 import BeautifulSoup\n",
    "from selenium import webdriver\n",
    "import urllib.request\n",
    "from urllib.parse import urlparse\n",
    "import re\n",
    "driver = webdriver.Chrome('/home/eunbi/Desktop/Study/크롤링/chromedriver')\n"
   ]
  },
  {
   "cell_type": "code",
   "execution_count": 4,
   "metadata": {},
   "outputs": [
    {
     "ename": "WebDriverException",
     "evalue": "Message: chrome not reachable\n  (Session info: chrome=80.0.3987.87)\n",
     "output_type": "error",
     "traceback": [
      "\u001b[0;31m---------------------------------------------------------------------------\u001b[0m",
      "\u001b[0;31mWebDriverException\u001b[0m                        Traceback (most recent call last)",
      "\u001b[0;32m<ipython-input-4-5bdf99eb76f3>\u001b[0m in \u001b[0;36m<module>\u001b[0;34m\u001b[0m\n\u001b[1;32m      1\u001b[0m \u001b[0;31m# 신상품 페이지 상품 사진 이미지 링크\u001b[0m\u001b[0;34m\u001b[0m\u001b[0;34m\u001b[0m\u001b[0;34m\u001b[0m\u001b[0m\n\u001b[0;32m----> 2\u001b[0;31m \u001b[0mdriver\u001b[0m\u001b[0;34m.\u001b[0m\u001b[0mget\u001b[0m\u001b[0;34m(\u001b[0m\u001b[0;34m'#gnbMenu > div > div.gnb_main > ul > li:nth-child(2) > a'\u001b[0m\u001b[0;34m)\u001b[0m\u001b[0;34m\u001b[0m\u001b[0;34m\u001b[0m\u001b[0m\n\u001b[0m\u001b[1;32m      3\u001b[0m \u001b[0mhtml\u001b[0m \u001b[0;34m=\u001b[0m \u001b[0mdriver\u001b[0m\u001b[0;34m.\u001b[0m\u001b[0mpage_source\u001b[0m\u001b[0;34m\u001b[0m\u001b[0;34m\u001b[0m\u001b[0m\n\u001b[1;32m      4\u001b[0m \u001b[0msoup\u001b[0m \u001b[0;34m=\u001b[0m \u001b[0mBeautifulSoup\u001b[0m\u001b[0;34m(\u001b[0m\u001b[0mhtml\u001b[0m\u001b[0;34m,\u001b[0m \u001b[0;34m'html.parser'\u001b[0m\u001b[0;34m)\u001b[0m\u001b[0;34m\u001b[0m\u001b[0;34m\u001b[0m\u001b[0m\n\u001b[1;32m      5\u001b[0m my_photos = soup.select(\n",
      "\u001b[0;32m/usr/local/lib/python3.6/dist-packages/selenium/webdriver/remote/webdriver.py\u001b[0m in \u001b[0;36mget\u001b[0;34m(self, url)\u001b[0m\n\u001b[1;32m    331\u001b[0m         \u001b[0mLoads\u001b[0m \u001b[0ma\u001b[0m \u001b[0mweb\u001b[0m \u001b[0mpage\u001b[0m \u001b[0;32min\u001b[0m \u001b[0mthe\u001b[0m \u001b[0mcurrent\u001b[0m \u001b[0mbrowser\u001b[0m \u001b[0msession\u001b[0m\u001b[0;34m.\u001b[0m\u001b[0;34m\u001b[0m\u001b[0;34m\u001b[0m\u001b[0m\n\u001b[1;32m    332\u001b[0m         \"\"\"\n\u001b[0;32m--> 333\u001b[0;31m         \u001b[0mself\u001b[0m\u001b[0;34m.\u001b[0m\u001b[0mexecute\u001b[0m\u001b[0;34m(\u001b[0m\u001b[0mCommand\u001b[0m\u001b[0;34m.\u001b[0m\u001b[0mGET\u001b[0m\u001b[0;34m,\u001b[0m \u001b[0;34m{\u001b[0m\u001b[0;34m'url'\u001b[0m\u001b[0;34m:\u001b[0m \u001b[0murl\u001b[0m\u001b[0;34m}\u001b[0m\u001b[0;34m)\u001b[0m\u001b[0;34m\u001b[0m\u001b[0;34m\u001b[0m\u001b[0m\n\u001b[0m\u001b[1;32m    334\u001b[0m \u001b[0;34m\u001b[0m\u001b[0m\n\u001b[1;32m    335\u001b[0m     \u001b[0;34m@\u001b[0m\u001b[0mproperty\u001b[0m\u001b[0;34m\u001b[0m\u001b[0;34m\u001b[0m\u001b[0m\n",
      "\u001b[0;32m/usr/local/lib/python3.6/dist-packages/selenium/webdriver/remote/webdriver.py\u001b[0m in \u001b[0;36mexecute\u001b[0;34m(self, driver_command, params)\u001b[0m\n\u001b[1;32m    319\u001b[0m         \u001b[0mresponse\u001b[0m \u001b[0;34m=\u001b[0m \u001b[0mself\u001b[0m\u001b[0;34m.\u001b[0m\u001b[0mcommand_executor\u001b[0m\u001b[0;34m.\u001b[0m\u001b[0mexecute\u001b[0m\u001b[0;34m(\u001b[0m\u001b[0mdriver_command\u001b[0m\u001b[0;34m,\u001b[0m \u001b[0mparams\u001b[0m\u001b[0;34m)\u001b[0m\u001b[0;34m\u001b[0m\u001b[0;34m\u001b[0m\u001b[0m\n\u001b[1;32m    320\u001b[0m         \u001b[0;32mif\u001b[0m \u001b[0mresponse\u001b[0m\u001b[0;34m:\u001b[0m\u001b[0;34m\u001b[0m\u001b[0;34m\u001b[0m\u001b[0m\n\u001b[0;32m--> 321\u001b[0;31m             \u001b[0mself\u001b[0m\u001b[0;34m.\u001b[0m\u001b[0merror_handler\u001b[0m\u001b[0;34m.\u001b[0m\u001b[0mcheck_response\u001b[0m\u001b[0;34m(\u001b[0m\u001b[0mresponse\u001b[0m\u001b[0;34m)\u001b[0m\u001b[0;34m\u001b[0m\u001b[0;34m\u001b[0m\u001b[0m\n\u001b[0m\u001b[1;32m    322\u001b[0m             response['value'] = self._unwrap_value(\n\u001b[1;32m    323\u001b[0m                 response.get('value', None))\n",
      "\u001b[0;32m/usr/local/lib/python3.6/dist-packages/selenium/webdriver/remote/errorhandler.py\u001b[0m in \u001b[0;36mcheck_response\u001b[0;34m(self, response)\u001b[0m\n\u001b[1;32m    240\u001b[0m                 \u001b[0malert_text\u001b[0m \u001b[0;34m=\u001b[0m \u001b[0mvalue\u001b[0m\u001b[0;34m[\u001b[0m\u001b[0;34m'alert'\u001b[0m\u001b[0;34m]\u001b[0m\u001b[0;34m.\u001b[0m\u001b[0mget\u001b[0m\u001b[0;34m(\u001b[0m\u001b[0;34m'text'\u001b[0m\u001b[0;34m)\u001b[0m\u001b[0;34m\u001b[0m\u001b[0;34m\u001b[0m\u001b[0m\n\u001b[1;32m    241\u001b[0m             \u001b[0;32mraise\u001b[0m \u001b[0mexception_class\u001b[0m\u001b[0;34m(\u001b[0m\u001b[0mmessage\u001b[0m\u001b[0;34m,\u001b[0m \u001b[0mscreen\u001b[0m\u001b[0;34m,\u001b[0m \u001b[0mstacktrace\u001b[0m\u001b[0;34m,\u001b[0m \u001b[0malert_text\u001b[0m\u001b[0;34m)\u001b[0m\u001b[0;34m\u001b[0m\u001b[0;34m\u001b[0m\u001b[0m\n\u001b[0;32m--> 242\u001b[0;31m         \u001b[0;32mraise\u001b[0m \u001b[0mexception_class\u001b[0m\u001b[0;34m(\u001b[0m\u001b[0mmessage\u001b[0m\u001b[0;34m,\u001b[0m \u001b[0mscreen\u001b[0m\u001b[0;34m,\u001b[0m \u001b[0mstacktrace\u001b[0m\u001b[0;34m)\u001b[0m\u001b[0;34m\u001b[0m\u001b[0;34m\u001b[0m\u001b[0m\n\u001b[0m\u001b[1;32m    243\u001b[0m \u001b[0;34m\u001b[0m\u001b[0m\n\u001b[1;32m    244\u001b[0m     \u001b[0;32mdef\u001b[0m \u001b[0m_value_or_default\u001b[0m\u001b[0;34m(\u001b[0m\u001b[0mself\u001b[0m\u001b[0;34m,\u001b[0m \u001b[0mobj\u001b[0m\u001b[0;34m,\u001b[0m \u001b[0mkey\u001b[0m\u001b[0;34m,\u001b[0m \u001b[0mdefault\u001b[0m\u001b[0;34m)\u001b[0m\u001b[0;34m:\u001b[0m\u001b[0;34m\u001b[0m\u001b[0;34m\u001b[0m\u001b[0m\n",
      "\u001b[0;31mWebDriverException\u001b[0m: Message: chrome not reachable\n  (Session info: chrome=80.0.3987.87)\n"
     ]
    }
   ],
   "source": [
    "# 신상품 페이지 상품 사진 이미지 링크\n",
    "driver.get('https://www.kurly.com/shop/goods/goods_list.php?category=038')\n",
    "html = driver.page_source\n",
    "soup = BeautifulSoup(html, 'html.parser')\n",
    "my_photos = soup.select(\n",
    "    '#goodsList > div.list_goods > div > ul > li > div > div > a > img '\n",
    "    )\n",
    "\n",
    "for photos in my_photos:\n",
    "    photo = photos['src']\n",
    "    print(photo)"
   ]
  },
  {
   "cell_type": "code",
   "execution_count": null,
   "metadata": {},
   "outputs": [],
   "source": [
    "# 로그인 하기\n",
    "driver.get('https://www.kurly.com/shop/member/login.php')\n",
    "driver.find_element_by_name('m_id').send_keys('##')\n",
    "driver.find_element_by_name('password').send_keys('##')\n",
    "\n",
    "driver.find_element_by_class_name('btn_type1').click()"
   ]
  },
  {
   "cell_type": "code",
   "execution_count": 3,
   "metadata": {},
   "outputs": [
    {
     "name": "stdout",
     "output_type": "stream",
     "text": [
      "https://www.kurly.com/shop/goods/goods_view.php?&goodsno=49096\n",
      "https://www.kurly.com/shop/goods/goods_view.php?&goodsno=49888\n",
      "https://www.kurly.com/shop/goods/goods_view.php?&goodsno=49936\n",
      "https://www.kurly.com/shop/goods/goods_view.php?&goodsno=50064\n",
      "https://www.kurly.com/shop/goods/goods_view.php?&goodsno=50089\n",
      "https://www.kurly.com/shop/goods/goods_view.php?&goodsno=50110\n",
      "https://www.kurly.com/shop/goods/goods_view.php?&goodsno=50150\n",
      "https://www.kurly.com/shop/goods/goods_view.php?&goodsno=50151\n",
      "https://www.kurly.com/shop/goods/goods_view.php?&goodsno=50351\n",
      "https://www.kurly.com/shop/goods/goods_view.php?&goodsno=50508\n",
      "https://www.kurly.com/shop/goods/goods_view.php?&goodsno=50510\n",
      "https://www.kurly.com/shop/goods/goods_view.php?&goodsno=50763\n",
      "https://www.kurly.com/shop/goods/goods_view.php?&goodsno=48793\n",
      "https://www.kurly.com/shop/goods/goods_view.php?&goodsno=48795\n",
      "https://www.kurly.com/shop/goods/goods_view.php?&goodsno=48797\n",
      "https://www.kurly.com/shop/goods/goods_view.php?&goodsno=48799\n",
      "https://www.kurly.com/shop/goods/goods_view.php?&goodsno=49714\n",
      "https://www.kurly.com/shop/goods/goods_view.php?&goodsno=49719\n",
      "https://www.kurly.com/shop/goods/goods_view.php?&goodsno=49819\n",
      "https://www.kurly.com/shop/goods/goods_view.php?&goodsno=49822\n",
      "https://www.kurly.com/shop/goods/goods_view.php?&goodsno=49860\n",
      "https://www.kurly.com/shop/goods/goods_view.php?&goodsno=49960\n",
      "https://www.kurly.com/shop/goods/goods_view.php?&goodsno=49961\n",
      "https://www.kurly.com/shop/goods/goods_view.php?&goodsno=50060\n",
      "https://www.kurly.com/shop/goods/goods_view.php?&goodsno=50061\n",
      "https://www.kurly.com/shop/goods/goods_view.php?&goodsno=50357\n",
      "https://www.kurly.com/shop/goods/goods_view.php?&goodsno=50383\n",
      "https://www.kurly.com/shop/goods/goods_view.php?&goodsno=50384\n",
      "https://www.kurly.com/shop/goods/goods_view.php?&goodsno=50421\n",
      "https://www.kurly.com/shop/goods/goods_view.php?&goodsno=50454\n",
      "https://www.kurly.com/shop/goods/goods_view.php?&goodsno=50455\n",
      "https://www.kurly.com/shop/goods/goods_view.php?&goodsno=50456\n",
      "https://www.kurly.com/shop/goods/goods_view.php?&goodsno=50458\n",
      "https://www.kurly.com/shop/goods/goods_view.php?&goodsno=50878\n",
      "https://www.kurly.com/shop/goods/goods_view.php?&goodsno=50880\n",
      "https://www.kurly.com/shop/goods/goods_view.php?&goodsno=48567\n",
      "https://www.kurly.com/shop/goods/goods_view.php?&goodsno=49766\n",
      "https://www.kurly.com/shop/goods/goods_view.php?&goodsno=49863\n",
      "https://www.kurly.com/shop/goods/goods_view.php?&goodsno=49866\n",
      "https://www.kurly.com/shop/goods/goods_view.php?&goodsno=50143\n",
      "https://www.kurly.com/shop/goods/goods_view.php?&goodsno=50306\n",
      "https://www.kurly.com/shop/goods/goods_view.php?&goodsno=50308\n",
      "https://www.kurly.com/shop/goods/goods_view.php?&goodsno=50313\n",
      "https://www.kurly.com/shop/goods/goods_view.php?&goodsno=50314\n",
      "https://www.kurly.com/shop/goods/goods_view.php?&goodsno=50316\n",
      "https://www.kurly.com/shop/goods/goods_view.php?&goodsno=50319\n",
      "https://www.kurly.com/shop/goods/goods_view.php?&goodsno=50346\n",
      "https://www.kurly.com/shop/goods/goods_view.php?&goodsno=50413\n",
      "https://www.kurly.com/shop/goods/goods_view.php?&goodsno=50422\n",
      "https://www.kurly.com/shop/goods/goods_view.php?&goodsno=50423\n",
      "https://www.kurly.com/shop/goods/goods_view.php?&goodsno=50429\n",
      "https://www.kurly.com/shop/goods/goods_view.php?&goodsno=50430\n",
      "https://www.kurly.com/shop/goods/goods_view.php?&goodsno=50431\n",
      "https://www.kurly.com/shop/goods/goods_view.php?&goodsno=50432\n",
      "https://www.kurly.com/shop/goods/goods_view.php?&goodsno=50433\n",
      "https://www.kurly.com/shop/goods/goods_view.php?&goodsno=50515\n",
      "https://www.kurly.com/shop/goods/goods_view.php?&goodsno=50516\n",
      "https://www.kurly.com/shop/goods/goods_view.php?&goodsno=35519\n",
      "https://www.kurly.com/shop/goods/goods_view.php?&goodsno=43173\n",
      "https://www.kurly.com/shop/goods/goods_view.php?&goodsno=44225\n",
      "https://www.kurly.com/shop/goods/goods_view.php?&goodsno=48600\n",
      "https://www.kurly.com/shop/goods/goods_view.php?&goodsno=49135\n",
      "https://www.kurly.com/shop/goods/goods_view.php?&goodsno=49136\n",
      "https://www.kurly.com/shop/goods/goods_view.php?&goodsno=49137\n",
      "https://www.kurly.com/shop/goods/goods_view.php?&goodsno=49138\n",
      "https://www.kurly.com/shop/goods/goods_view.php?&goodsno=49139\n",
      "https://www.kurly.com/shop/goods/goods_view.php?&goodsno=49140\n",
      "https://www.kurly.com/shop/goods/goods_view.php?&goodsno=49141\n",
      "https://www.kurly.com/shop/goods/goods_view.php?&goodsno=49283\n",
      "https://www.kurly.com/shop/goods/goods_view.php?&goodsno=49284\n",
      "https://www.kurly.com/shop/goods/goods_view.php?&goodsno=49301\n",
      "https://www.kurly.com/shop/goods/goods_view.php?&goodsno=49859\n",
      "https://www.kurly.com/shop/goods/goods_view.php?&goodsno=49941\n",
      "https://www.kurly.com/shop/goods/goods_view.php?&goodsno=50116\n",
      "https://www.kurly.com/shop/goods/goods_view.php?&goodsno=50128\n",
      "https://www.kurly.com/shop/goods/goods_view.php?&goodsno=50309\n",
      "https://www.kurly.com/shop/goods/goods_view.php?&goodsno=50322\n",
      "https://www.kurly.com/shop/goods/goods_view.php?&goodsno=50325\n",
      "https://www.kurly.com/shop/goods/goods_view.php?&goodsno=50345\n",
      "https://www.kurly.com/shop/goods/goods_view.php?&goodsno=50402\n",
      "https://www.kurly.com/shop/goods/goods_view.php?&goodsno=50405\n",
      "https://www.kurly.com/shop/goods/goods_view.php?&goodsno=50408\n",
      "https://www.kurly.com/shop/goods/goods_view.php?&goodsno=13606\n",
      "https://www.kurly.com/shop/goods/goods_view.php?&goodsno=49200\n",
      "https://www.kurly.com/shop/goods/goods_view.php?&goodsno=49201\n",
      "https://www.kurly.com/shop/goods/goods_view.php?&goodsno=49402\n",
      "https://www.kurly.com/shop/goods/goods_view.php?&goodsno=49403\n",
      "https://www.kurly.com/shop/goods/goods_view.php?&goodsno=49404\n",
      "https://www.kurly.com/shop/goods/goods_view.php?&goodsno=49604\n",
      "https://www.kurly.com/shop/goods/goods_view.php?&goodsno=49867\n",
      "https://www.kurly.com/shop/goods/goods_view.php?&goodsno=49868\n"
     ]
    }
   ],
   "source": [
    "# 신상품 페이지 클릭하여 상품 상세 페이지로 넘어가기\n",
    "driver.get('https://www.kurly.com/shop/goods/goods_list.php?category=038')\n",
    "# title = driver.find_element_by_class_name('info').click()\n",
    "# url = driver.current_url\n",
    "# print(url)\n",
    "# driver.back()\n",
    "\n",
    "# 상품 상세페이지 주소, 클릭\n",
    "url = soup.select(\n",
    "    '#goodsList > div.list_goods > div > ul > li > div > div > div > button > span')\n",
    "for item in url:\n",
    "    link = 'https://www.kurly.com/shop/goods/goods_view.php?&goodsno='+ item.text\n",
    "    print(link)"
   ]
  },
  {
   "cell_type": "code",
   "execution_count": null,
   "metadata": {},
   "outputs": [],
   "source": []
  },
  {
   "cell_type": "code",
   "execution_count": null,
   "metadata": {},
   "outputs": [],
   "source": []
  }
 ],
 "metadata": {
  "kernelspec": {
   "display_name": "Python 3",
   "language": "python",
   "name": "python3"
  },
  "language_info": {
   "codemirror_mode": {
    "name": "ipython",
    "version": 3
   },
   "file_extension": ".py",
   "mimetype": "text/x-python",
   "name": "python",
   "nbconvert_exporter": "python",
   "pygments_lexer": "ipython3",
   "version": "3.6.9"
  }
 },
 "nbformat": 4,
 "nbformat_minor": 2
}
