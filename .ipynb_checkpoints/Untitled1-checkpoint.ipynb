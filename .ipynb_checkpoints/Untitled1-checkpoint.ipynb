{
 "cells": [
  {
   "cell_type": "code",
   "execution_count": 64,
   "metadata": {},
   "outputs": [],
   "source": [
    "\n",
    "import requests\n",
    "from bs4 import BeautifulSoup\n",
    "from selenium import webdriver\n",
    "import urllib.request\n",
    "from urllib.parse import urlparse\n",
    "\n",
    "driver = webdriver.Chrome('/home/eunbi/Desktop/Study/크롤링/chromedriver')\n",
    "driver.implicitly_wait(3)\n",
    "\n",
    "driver.get('https://www.kurly.com/shop/goods/goods_list.php?category=038')"
   ]
  },
  {
   "cell_type": "code",
   "execution_count": 70,
   "metadata": {},
   "outputs": [
    {
     "name": "stdout",
     "output_type": "stream",
     "text": [
      "[<img alt=\"짙게 피어나는 두릅의 향\" height=\"396\" onerror=\"this.src='https://res.kurly.com/mobile/img/1808/img_none_x2.png'\" src=\"https://img-cf.kurly.com/shop/data/goods/1554369793804l0.jpg\" width=\"308\"/>]\n",
      "-----------------------------------\n",
      "https://img-cf.kurly.com/shop/data/goods/1554369793804l0.jpg\n"
     ]
    },
    {
     "data": {
      "text/plain": [
       "('/home/eunbi/Desktop/Study/크롤링/image/test.jpg',\n",
       " <http.client.HTTPMessage at 0x7feae225ab70>)"
      ]
     },
     "execution_count": 70,
     "metadata": {},
     "output_type": "execute_result"
    }
   ],
   "source": [
    "html = driver.page_source\n",
    "soup = BeautifulSoup(html, 'html.parser')\n",
    "my_photos = soup.select(\n",
    "    '#goodsList > div.list_goods > div > ul > li:nth-child(1) > div > div > a > img '\n",
    "    )\n",
    "print(my_photos)\n",
    "print('-----------------------------------')\n",
    "for photos in my_photos:\n",
    "    print(photos['src'])\n",
    "    photo = photos['src']\n",
    "    \n",
    "urllib.request.urlretrieve(photo, \"/home/eunbi/Desktop/Study/크롤링/image/test.jpg\")\n"
   ]
  },
  {
   "cell_type": "code",
   "execution_count": null,
   "metadata": {},
   "outputs": [],
   "source": []
  },
  {
   "cell_type": "code",
   "execution_count": null,
   "metadata": {},
   "outputs": [],
   "source": []
  },
  {
   "cell_type": "code",
   "execution_count": null,
   "metadata": {},
   "outputs": [],
   "source": []
  }
 ],
 "metadata": {
  "kernelspec": {
   "display_name": "Python 3",
   "language": "python",
   "name": "python3"
  },
  "language_info": {
   "codemirror_mode": {
    "name": "ipython",
    "version": 3
   },
   "file_extension": ".py",
   "mimetype": "text/x-python",
   "name": "python",
   "nbconvert_exporter": "python",
   "pygments_lexer": "ipython3",
   "version": "3.6.9"
  }
 },
 "nbformat": 4,
 "nbformat_minor": 2
}
