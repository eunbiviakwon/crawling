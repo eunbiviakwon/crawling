{
 "cells": [
  {
   "cell_type": "code",
   "execution_count": null,
   "metadata": {},
   "outputs": [],
   "source": [
    "import requests\n",
    "from bs4 import BeautifulSoup\n",
    "from selenium import webdriver\n",
    "import urllib.request\n",
    "from urllib.parse import urlparse\n",
    "import re\n",
    "\n",
    "driver = webdriver.Chrome('/home/eunbi/Desktop/Study/크롤링/chromedriver')\n",
    "driver.get('https://www.kurly.com/shop/main/index.php')\n",
    "html = driver.page_source\n",
    "soup = BeautifulSoup(html, 'html.parser')"
   ]
  },
  {
   "cell_type": "code",
   "execution_count": null,
   "metadata": {},
   "outputs": [],
   "source": [
    "# 전체 카테코리 클릭\n",
    "categories = driver.find_element_by_css_selector(\n",
    "    '#gnbMenu > div > div.gnb_main > ul > li.menu1 > a').click()\n"
   ]
  },
  {
   "cell_type": "code",
   "execution_count": null,
   "metadata": {},
   "outputs": [],
   "source": [
    "# 카테고리 클릭\n",
    "category_click = driver.find_element_by_css_selector(\n",
    "    '#gnbMenu > div > div.gnb_sub > div > ul > li:nth-child(1) > a > span.tit > span').click()"
   ]
  },
  {
   "cell_type": "code",
   "execution_count": null,
   "metadata": {},
   "outputs": [],
   "source": [
    "url = soup.select(\n",
    "    '#goodsList > div.list_goods > div > ul > li:nth-child(1) > div > div > div > button > span')\n",
    "print(url)\n",
    "    \n",
    "# 그 다음 카테고리들\n",
    "#gnbMenu > div > div.gnb_sub > div > ul > li:nth-child(n) > a > span.tit > span"
   ]
  },
  {
   "cell_type": "code",
   "execution_count": null,
   "metadata": {},
   "outputs": [],
   "source": []
  }
 ],
 "metadata": {
  "kernelspec": {
   "display_name": "Python 3",
   "language": "python",
   "name": "python3"
  },
  "language_info": {
   "codemirror_mode": {
    "name": "ipython",
    "version": 3
   },
   "file_extension": ".py",
   "mimetype": "text/x-python",
   "name": "python",
   "nbconvert_exporter": "python",
   "pygments_lexer": "ipython3",
   "version": "3.6.9"
  }
 },
 "nbformat": 4,
 "nbformat_minor": 2
}
